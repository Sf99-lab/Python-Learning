{
  "nbformat": 4,
  "nbformat_minor": 0,
  "metadata": {
    "colab": {
      "provenance": [],
      "include_colab_link": true
    },
    "kernelspec": {
      "name": "python3",
      "display_name": "Python 3"
    },
    "language_info": {
      "name": "python"
    }
  },
  "cells": [
    {
      "cell_type": "markdown",
      "metadata": {
        "id": "view-in-github",
        "colab_type": "text"
      },
      "source": [
        "<a href=\"https://colab.research.google.com/github/Sf99-lab/Python-Learning/blob/main/Week6_Numpy.ipynb\" target=\"_parent\"><img src=\"https://colab.research.google.com/assets/colab-badge.svg\" alt=\"Open In Colab\"/></a>"
      ]
    },
    {
      "cell_type": "code",
      "execution_count": null,
      "metadata": {
        "id": "Rc9m3CYdfnPW"
      },
      "outputs": [],
      "source": []
    },
    {
      "cell_type": "markdown",
      "source": [
        "# Week 6 Tasks\n",
        "\n",
        "**Task1:**\n",
        "\n",
        "Explore and write what are universal functions in NumPy and then code three examples each for:\n",
        "1.   Math\n",
        "2.   Trigonometry\n",
        "3. Bit Manipulation\n",
        "4. Comparison\n",
        "5. Floating point\n",
        "\n",
        "**Task 2:** Explore the topic of Indexing and Slicing with Numpy and the provide code examples for the following:\n",
        "1. Indexing with 2-dimensional Arrays\n",
        "2. Selecting a subset of a 2-dimensional Array's Rows\n",
        "3. Selecting a subset of a 2-dimensional Array's Columns\n",
        "\n",
        "**Task 3:** Find the difference between view/shallow copies and deep copies and then provide code examples for:\n",
        "\n",
        "1. Shallow copies\n",
        "2. Deep Copies\n",
        "\n",
        "**Task 4:** Browse the internet for Python's magic commands. In a text cell discuss what they do and then provide code examples of atleast three such commands following the text cell you will write.\n",
        "\n",
        "\n",
        "\n",
        "\n",
        "\n",
        "\n"
      ],
      "metadata": {
        "id": "8HYxYDhygUrR"
      }
    },
    {
      "cell_type": "markdown",
      "source": [
        "# **Universal Functions in numpy**\n",
        "\n",
        "Universal functions, or **ufuncs**, in NumPy are functions that operate on ndarrays (N-dimensional arrays) in an element-by-element fashion. They support array broadcasting, type casting, and several other standard features, allowing for efficient and fast element-wise operations"
      ],
      "metadata": {
        "id": "S4HZndALSeLR"
      }
    },
    {
      "cell_type": "code",
      "source": [
        "#Math\n",
        "import numpy as np\n",
        "\n",
        "#Addition\n",
        "print(np.add(1.0, 4.0))\n",
        "\n",
        "#Square root\n",
        "print(np.sqrt([49, 121, 7]))\n",
        "\n",
        "#Exponential\n",
        "print(np.exp([ 0,1,2]))\n"
      ],
      "metadata": {
        "colab": {
          "base_uri": "https://localhost:8080/"
        },
        "id": "cBesszyYQtWV",
        "outputId": "c325b0ce-2d6e-42a5-bca6-6c26b75cd49f"
      },
      "execution_count": null,
      "outputs": [
        {
          "output_type": "stream",
          "name": "stdout",
          "text": [
            "5.0\n",
            "[ 7.         11.          2.64575131]\n",
            "[1.         2.71828183 7.3890561 ]\n"
          ]
        }
      ]
    },
    {
      "cell_type": "code",
      "source": [
        "#Trigonometry\n",
        "\n",
        "#Sine function\n",
        "angles = np.array([0, np.pi/2, np.pi])\n",
        "\n",
        "print(np.sin(np.pi/2))\n",
        "\n",
        "#Cosine function\n",
        "print(np.cos(np.cos(np.pi)))\n",
        "\n",
        "#Tangent function\n",
        "print(np.tan(angles))\n",
        "\n"
      ],
      "metadata": {
        "colab": {
          "base_uri": "https://localhost:8080/"
        },
        "id": "KkQ5jlQBVOkh",
        "outputId": "2d50720e-7921-4290-a7b7-b56e61abb057"
      },
      "execution_count": null,
      "outputs": [
        {
          "output_type": "stream",
          "name": "stdout",
          "text": [
            "1.0\n",
            "0.5403023058681398\n",
            "[ 0.00000000e+00  1.63312394e+16 -1.22464680e-16]\n"
          ]
        }
      ]
    },
    {
      "cell_type": "code",
      "source": [
        "#Bit Manipulation\n",
        "\n",
        "x = np.array([1,2,3])\n",
        "y = np.array([4,5,6])\n",
        "print(np.bitwise_and(x, y))\n",
        "\n",
        "#Bitwise OR\n",
        "print(np.bitwise_or(x, y))\n",
        "\n",
        "#Right Shift\n",
        "print(np.right_shift(y, 1))"
      ],
      "metadata": {
        "colab": {
          "base_uri": "https://localhost:8080/"
        },
        "id": "ar09zeF7NHqV",
        "outputId": "7ef05488-2cf9-42a9-e4c9-be459356bb7c"
      },
      "execution_count": null,
      "outputs": [
        {
          "output_type": "stream",
          "name": "stdout",
          "text": [
            "[0 0 2]\n",
            "[5 7 7]\n",
            "[2 2 3]\n"
          ]
        }
      ]
    },
    {
      "cell_type": "code",
      "source": [
        "#comparison\n",
        "a = 4\n",
        "b = 7\n",
        "#greater\n",
        "print(np.greater(a, b))\n",
        "\n",
        "#equal\n",
        "print(np.equal(a,b))\n",
        "\n",
        "#less\n",
        "print(np.less(a,b))"
      ],
      "metadata": {
        "colab": {
          "base_uri": "https://localhost:8080/"
        },
        "id": "nrKldQe1PJwL",
        "outputId": "c3288686-612b-475f-9e07-4ff35d87ad27"
      },
      "execution_count": null,
      "outputs": [
        {
          "output_type": "stream",
          "name": "stdout",
          "text": [
            "False\n",
            "False\n",
            "True\n"
          ]
        }
      ]
    },
    {
      "cell_type": "code",
      "source": [
        "#Floating point\n",
        "\n",
        "#Is finite\n",
        "c = np.array([np.inf, np.nan, 0])\n",
        "print(np.isfinite(c))\n",
        "\n",
        "#Is NaN\n",
        "print(np.isnan(c))\n",
        "\n",
        "#Floor\n",
        "d = np.array([1.9, 2.5, 3.7])\n",
        "print(np.floor(d))\n"
      ],
      "metadata": {
        "colab": {
          "base_uri": "https://localhost:8080/"
        },
        "id": "3N6OTST3QMc6",
        "outputId": "ebcb6d43-e866-4686-bf21-85cdecdf40c7"
      },
      "execution_count": null,
      "outputs": [
        {
          "output_type": "stream",
          "name": "stdout",
          "text": [
            "[False False  True]\n",
            "[False  True False]\n",
            "[1. 2. 3.]\n"
          ]
        }
      ]
    },
    {
      "cell_type": "markdown",
      "source": [
        "#**Task2**\n",
        "**Indexing and Slicing with Numbpy**\n",
        "\n",
        "NumPy, a powerful numerical computing library in Python, provides flexible ways to access and manipulate elements within arrays. There are two type of indexing in Numpy: Basic Indexing and Advanced Indexing.\n",
        "\n",
        "**Basic Indexing:**\n",
        "\n",
        "\n",
        "NumPy arrays can be indexed using the standard Python syntax: *x[obj]*, where *x* is the array, and obj represents the selection.\n",
        "There are different types of indexing available:\n",
        "\n",
        "* **Single Element Indexing:**\\\n",
        "  Works like indexing in other Python sequences.\n",
        "\n",
        "  It’s 0-based, meaning the first element has index 0.\n",
        "\n",
        "  Negative indices count from the end of the array.\n",
        "\n",
        "  **Example:**\n",
        "\n",
        "      x = np.arange(10)\n",
        "\n",
        "      x[2]  # Returns 2\n",
        "\n",
        "      x[-2]  # Returns 8\n",
        "\n",
        "\n",
        "* **Multidimensional Indexing:**\\\n",
        "Here we can use a single set of square brackets for multiple dimensions.\n",
        "\n",
        "  **Example:**\n",
        "      x = np.arange(10)\n",
        "      x.shape = (2, 5)  # Now x is 2-dimensional\n",
        "      x[1, 3]  # Returns 8\n",
        "      x[1, -1]  # Returns 9\n",
        "\n",
        "  If we index with fewer indices than dimensions, we get a subdimensional array.\\\n",
        "  The returned array is a view (not a copy), pointing to the same memory as the original.\n",
        "\n",
        "  **For Example:**\n",
        "      x[0]  # Returns a 1-D array: [0, 1, 2, 3, 4]\n",
        "      x[0][2]  # Returns 2\n",
        "\n",
        "\n",
        "**Slicing a Numpy array:**\\\n",
        "  Slicing a NumPy array means accessing the subset of the array. i.e taking elements from one given index to another given index.\n",
        "\n",
        "  * Basic slicing extends Python’s concept of slicing to N dimensions.\n",
        "\n",
        "  * Syntax: x[i:j:k], where i is the starting index, j is the stopping index, and k is the step (with k ≠ 0).\n",
        "\n",
        "  * All indices are zero-based.\n",
        "  Negative indices count from the end of the array.\n",
        "\n",
        "        For example:\n",
        "        x = np.arange(10)\n",
        "        x[2:7:2]  # Returns array([2, 4, 6])\n",
        "\n",
        "\n",
        "\n",
        "\n",
        "\n"
      ],
      "metadata": {
        "id": "fujOolUd4HAK"
      }
    },
    {
      "cell_type": "code",
      "source": [
        "# 1. Indexing 2 dimensional array\n",
        "x = np.arange(10)\n",
        "x.shape = (2, 5) # Now x is 2-dimensional\n",
        "print(x[1, 3]) # Returns 8\n",
        "print(x[1, -1] )# Returns 9\n"
      ],
      "metadata": {
        "colab": {
          "base_uri": "https://localhost:8080/"
        },
        "id": "WX6D1M3B4KdC",
        "outputId": "11d13370-56fd-4835-9d03-7d1ca003820a"
      },
      "execution_count": null,
      "outputs": [
        {
          "output_type": "stream",
          "name": "stdout",
          "text": [
            "8\n",
            "9\n"
          ]
        }
      ]
    },
    {
      "cell_type": "code",
      "source": [
        "# 2. Selecting a subset of a 2-dimensional Array's Rows\n",
        "x = np.arange(10)\n",
        "x.shape = (2, 5) # Now x is 2-dimensional\n",
        "print('2-D array: \\n', x)\n",
        "selected_row = x[1]\n",
        "print('Selected row: \\n',selected_row)"
      ],
      "metadata": {
        "colab": {
          "base_uri": "https://localhost:8080/"
        },
        "id": "MyNxtUDj-bkN",
        "outputId": "65027a4a-74a3-4191-a185-8db5940da6e2"
      },
      "execution_count": null,
      "outputs": [
        {
          "output_type": "stream",
          "name": "stdout",
          "text": [
            "2-D array: \n",
            " [[0 1 2 3 4]\n",
            " [5 6 7 8 9]]\n",
            "Selected row: \n",
            " [5 6 7 8 9]\n"
          ]
        }
      ]
    },
    {
      "cell_type": "code",
      "source": [
        "# 3. Selecting a subset of a 2-dimensional Array's Columns\n",
        "x = np.arange(10)\n",
        "x.shape = (2, 5) # Now x is 2-dimensional\n",
        "print('2-D array: \\n',x)\n",
        "selected_columns = x[:, 2:5]\n",
        "print('Selected columans:\\n',selected_columns)\n"
      ],
      "metadata": {
        "colab": {
          "base_uri": "https://localhost:8080/"
        },
        "id": "IeJmGIJr_Ga1",
        "outputId": "f95ea866-f91e-4c38-cec5-343c7e805071"
      },
      "execution_count": null,
      "outputs": [
        {
          "output_type": "stream",
          "name": "stdout",
          "text": [
            "2-D array: \n",
            " [[0 1 2 3 4]\n",
            " [5 6 7 8 9]]\n",
            "Selected columans:\n",
            " [[2 3 4]\n",
            " [7 8 9]]\n"
          ]
        }
      ]
    },
    {
      "cell_type": "markdown",
      "source": [
        "#**Task 3**\n",
        "\n",
        "**View/Shallow Copies Vs Deep Copies**\n",
        "\n",
        "A deep copy and a shallow copy are two ways of creating a new object that has the same data as an existing object. The difference is how they handle references to other objects that the original object may contain.\n",
        "\n",
        "**View/Shallow Copy**\\\n",
        "A shallow copy only copies the references to other objects, not the objects themselves. This means that the new object and the original object share the same references, and any changes made to one will affect the other.\n",
        "\n",
        "**Deep copy**\\\n",
        "A deep copy copies the references and the objects they point to. This means that the new object and the original object have independent copies of their data, and any changes made to one will not affect the other.\n",
        "A deep copy is slower and uses more memory, but it avoids the problems of shared references."
      ],
      "metadata": {
        "id": "GAI9BDlLGK5s"
      }
    },
    {
      "cell_type": "code",
      "source": [
        "import copy\n",
        "\n",
        "# A class that contains a list of colors\n",
        "class Car:\n",
        "  def __init__(self, name, colors):\n",
        "    self.name = name\n",
        "    self.colors = colors\n",
        "\n",
        "# Create an object with some data\n",
        "honda = Car(\"Honda\", [\"Red\", \"Blue\"])\n",
        "\n",
        "# Make a shallow copy of the object\n",
        "shallow_copy = copy.copy(honda)\n",
        "\n",
        "# Make a deep copy of the object\n",
        "deep_copy = copy.deepcopy(honda)\n",
        "\n",
        "# Modify the list of colors in the original object\n",
        "honda.colors.append(\"Green\")\n",
        "\n",
        "# Print the list of colors in each object\n",
        "print(\"Original:\", honda.colors)\n",
        "print(\"Shallow copy:\", shallow_copy.colors)\n",
        "print(\"Deep copy:\", deep_copy.colors)"
      ],
      "metadata": {
        "colab": {
          "base_uri": "https://localhost:8080/"
        },
        "id": "EsC5egqeHvWP",
        "outputId": "6594d898-3bb0-4a06-c922-cf9955bd4fd8"
      },
      "execution_count": null,
      "outputs": [
        {
          "output_type": "stream",
          "name": "stdout",
          "text": [
            "Original: ['Red', 'Blue', 'Green']\n",
            "Shallow copy: ['Red', 'Blue', 'Green']\n",
            "Deep copy: ['Red', 'Blue']\n"
          ]
        }
      ]
    },
    {
      "cell_type": "markdown",
      "source": [
        "#**Task 4**\n",
        "\n",
        "**Python's Magic Commands**\n",
        "\n",
        "Python's magic commands (also known as magic methods or dunder methods) are special commands built into the IPython kernel that make it easy to perform specific tasks. These commands enhance Python’s capabilities by allowing interactions with the operating system, other programming languages, or different kernels. There are two main categories of magic commands:\n",
        "\n",
        "**1. Line Magics:**\n",
        "\n",
        "* Denoted by a single % prefix.\n",
        "\n",
        "*   Operate on a single line of input.\n",
        "*   Commonly used for quick tasks or modifications.\n",
        "           Example: %run, %timeit, %load, %pwd, etc.\n",
        "\n",
        "**2. Cell Magics:**\n",
        "\n",
        "* Denoted by a double %% prefix.\n",
        "* Operate on multiple lines of input (an entire cell).\n",
        "* Useful for more complex operations.\n",
        "       Example: %%writefile, %%sql, %%bash, etc.\n",
        "\n",
        "\n",
        "\n",
        "\n",
        "\n",
        "\n"
      ],
      "metadata": {
        "id": "oSLRqCZHLezy"
      }
    },
    {
      "cell_type": "code",
      "source": [
        "# Prints the current working directory.\n",
        "\n",
        "%pwd\n",
        "\n"
      ],
      "metadata": {
        "id": "-jjSveOIT2uM",
        "colab": {
          "base_uri": "https://localhost:8080/",
          "height": 35
        },
        "outputId": "c3011fb9-9425-4971-ef6e-662cbe8c7ac8"
      },
      "execution_count": null,
      "outputs": [
        {
          "output_type": "execute_result",
          "data": {
            "text/plain": [
              "'/content'"
            ],
            "application/vnd.google.colaboratory.intrinsic+json": {
              "type": "string"
            }
          },
          "metadata": {},
          "execution_count": 38
        }
      ]
    },
    {
      "cell_type": "code",
      "source": [
        "# Lists the contents of the current directory.\n",
        "%ls\n",
        "\n"
      ],
      "metadata": {
        "colab": {
          "base_uri": "https://localhost:8080/"
        },
        "id": "_3ixsVuzO_4f",
        "outputId": "c7b9bff9-45d4-45f4-b1de-7089ef809bbd"
      },
      "execution_count": null,
      "outputs": [
        {
          "output_type": "stream",
          "name": "stdout",
          "text": [
            "\u001b[0m\u001b[01;34msample_data\u001b[0m/\n"
          ]
        }
      ]
    },
    {
      "cell_type": "code",
      "source": [
        "# Measure the execution time of a single Python statement or expression.\n",
        "from timeit import timeit\n",
        "%timeit L = [n ** 2 for n in range(1000)]\n",
        "print(L)\n"
      ],
      "metadata": {
        "colab": {
          "base_uri": "https://localhost:8080/"
        },
        "id": "3t_iBwgHPHy6",
        "outputId": "91217fc2-3c9a-4aa0-b270-e37eb871a027"
      },
      "execution_count": null,
      "outputs": [
        {
          "output_type": "stream",
          "name": "stdout",
          "text": [
            "305 µs ± 8.89 µs per loop (mean ± std. dev. of 7 runs, 1000 loops each)\n",
            "3.016489098999955\n"
          ]
        }
      ]
    }
  ]
}